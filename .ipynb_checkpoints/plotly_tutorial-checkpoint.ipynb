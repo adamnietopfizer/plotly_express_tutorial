{
 "cells": [
  {
   "cell_type": "markdown",
   "metadata": {},
   "source": [
    "# Data Science Thursdays: Plotly Express Tutorial\n",
    "\n",
    "---"
   ]
  },
  {
   "cell_type": "markdown",
   "metadata": {},
   "source": [
    "In this tutorial we will apply what we just learned about Plotly Express and create visualizations using the Plotly Express library for each scenario.\n",
    "\n",
    "Let's start out by importing the plotly express library along with the pandas library to read in and process our datasets. Additionally, we may use built-in datasets inside of the Plotly Express library through this tutorial.\n",
    "\n",
    "If at anytime you need help you can always reference the Plotly Express [documentation](https://plotly.github.io/plotly_express/plotly_express/)."
   ]
  },
  {
   "cell_type": "code",
   "execution_count": null,
   "metadata": {},
   "outputs": [],
   "source": [
    "import pandas as pd\n",
    "import plotly_express as px\n",
    "\n",
    "# Used to hide warnings\n",
    "import warnings\n",
    "warnings.filterwarnings('ignore')"
   ]
  },
  {
   "cell_type": "markdown",
   "metadata": {},
   "source": [
    "### Question 1: Visualizing the Relation of Gender and BMI on a Stroke Patient Population\n",
    "\n",
    "**Scenario:** Your manager, Chris, asked you to create a scatter graph using the `stroke.csv` dataset you got last week. \n",
    "\n",
    "**1st Visualization:** He said he wants the scatter graph to have `id` on the x-axis and `bmi` on the y-axis. Can you create a scatter graph with the above specifications for Chris?"
   ]
  },
  {
   "cell_type": "code",
   "execution_count": null,
   "metadata": {},
   "outputs": [],
   "source": [
    "# Read in your dataset using the pandas library\n",
    "stroke_df = pd.read_csv(\"stroke.csv\")\n",
    "\n",
    "stroke_df"
   ]
  },
  {
   "cell_type": "code",
   "execution_count": null,
   "metadata": {},
   "outputs": [],
   "source": [
    "# Plot your graph using the plotly_express library\n",
    "stroke_scatter_one_viz =\n",
    "\n",
    "stroke_scatter_one_viz"
   ]
  },
  {
   "cell_type": "markdown",
   "metadata": {},
   "source": [
    "**2nd Visualization:** Chris now wants you to make patient data points in the graph you just created have different colors and symbols. He would like for patients who had a `stroke` to be separated by having a different symbol on the scatter plot. He also would like you to color the patient data points by `gender`. For his last request he would like you to make the graph have a height of `600` and a width of `800`. Can you copy your graph above and paste it below and add these new changes?"
   ]
  },
  {
   "cell_type": "code",
   "execution_count": null,
   "metadata": {},
   "outputs": [],
   "source": [
    "stroke_scatter_two_viz = \n",
    "\n",
    "stroke_scatter_two_viz"
   ]
  },
  {
   "cell_type": "markdown",
   "metadata": {},
   "source": [
    "---\n",
    "\n",
    "### Question 2: Machine Learning Iris Dataset Visualizations\n",
    "\n",
    "**Scenario:** For you first machine learning project your manager, Veena, has asked you to display several visualizations for the iris dataset found in the plotly_express library.\n",
    "\n",
    "**1st Visualization:** Create a scatter plot using the `iris_df` where the x-axis has `sepal_width` and y-axis has `sepal_height` and colored by the values in the `species` column."
   ]
  },
  {
   "cell_type": "code",
   "execution_count": null,
   "metadata": {},
   "outputs": [],
   "source": [
    "# The following dataset is already assigned to the variable iris_df\n",
    "iris_df = px.data.iris()\n",
    "\n",
    "iris_df"
   ]
  },
  {
   "cell_type": "code",
   "execution_count": null,
   "metadata": {},
   "outputs": [],
   "source": [
    "# Add you first visualization here\n",
    "first_viz = \n",
    "\n",
    "first_viz"
   ]
  },
  {
   "cell_type": "markdown",
   "metadata": {},
   "source": [
    "**2nd Visualization:** Veena now wants you to take the visualization you created above but on the x-axis margin create a `histogram` subplot and on the y-axis margin create a `rug` subplot. "
   ]
  },
  {
   "cell_type": "code",
   "execution_count": null,
   "metadata": {},
   "outputs": [],
   "source": [
    "# Add your visualization here\n",
    "second_viz = \n",
    "\n",
    "second_viz"
   ]
  },
  {
   "cell_type": "markdown",
   "metadata": {},
   "source": [
    "**3rd Visualization:** For your third visualization, Veena wants you to take the visualization you created above except changed the types of subplots we made before. Instead, she wants you to create a `box` subplot on the x-axis margin and a `violin` subplot on the y-axis margin. Additionally, Veena would like you to add a [Ordinary Least Squares](https://en.wikipedia.org/wiki/Ordinary_least_squares) or `ols` regression trendline to the original plot. "
   ]
  },
  {
   "cell_type": "code",
   "execution_count": null,
   "metadata": {},
   "outputs": [],
   "source": [
    "# Add your visualization here\n",
    "third_viz = \n",
    "\n",
    "third_viz"
   ]
  },
  {
   "cell_type": "markdown",
   "metadata": {},
   "source": [
    "**4th Visualization:** Veena now wants you to create a scatter matrix plot for `iris_df` where the dimensions are \"sepal_width\", \"sepal_length\", \"petal_width\", \"petal_length\" and is colored by the \"species\" column."
   ]
  },
  {
   "cell_type": "code",
   "execution_count": null,
   "metadata": {},
   "outputs": [],
   "source": [
    "# Add your visualization here\n",
    "fourth_viz = \n",
    "\n",
    "fourth_viz"
   ]
  },
  {
   "cell_type": "markdown",
   "metadata": {},
   "source": [
    "**5th Visualization:** Veena would now like you to create a density heatmap for `iris_df`. The heatmap should have \"sepal_width\" on its x-axis and \"sepal_length\" on its y-axis."
   ]
  },
  {
   "cell_type": "code",
   "execution_count": null,
   "metadata": {},
   "outputs": [],
   "source": [
    "# Add 5th visualization here\n",
    "\n",
    "fifth_viz = \n",
    "\n",
    "fifth_viz"
   ]
  },
  {
   "cell_type": "markdown",
   "metadata": {},
   "source": [
    "**6th Visualization:** For the last visualization, Veena would like you to create a density contour plot where \"sepal_width\" is on the x-axis and \"sepal_length\" is on the y-axis. Additionally, the color should be specified by \"species\"."
   ]
  },
  {
   "cell_type": "code",
   "execution_count": null,
   "metadata": {},
   "outputs": [],
   "source": [
    "# Add your visualization below\n",
    "sixth_viz = \n",
    "\n",
    "sixth_viz"
   ]
  },
  {
   "cell_type": "markdown",
   "metadata": {},
   "source": [
    "---\n",
    "\n",
    "### Question 3: Exploratory Analysis of Tobacco Use in the United States"
   ]
  },
  {
   "cell_type": "markdown",
   "metadata": {},
   "source": [
    "**Scenario:** Your managers, Ahsan and Neil, want to conduct an exploratory analysis on tabacco use using the CDC's Behaviorial Risk Factor Surveillance System dataset called `tobacco_use.csv`.\n",
    "\n",
    "**1st Visualization:** For your first visualization, Neil would like you to make a bar graph that displays the \"States\" on the x-axis and \"Smokers\" on the y-axis. This will show us the amount of smokers by State. However, he only wants to see the number of smokers in the year 2010. You can get only smokers from a certain year by using pandas and selecting like this: `tobacco_df[tobacco_df[\"Year\"] == 2000]`."
   ]
  },
  {
   "cell_type": "code",
   "execution_count": null,
   "metadata": {},
   "outputs": [],
   "source": [
    "# Read in your dataset using the pandas library\n",
    "tobacco_df = # Read in dataset here\n",
    "\n",
    "tobacco_df"
   ]
  },
  {
   "cell_type": "code",
   "execution_count": null,
   "metadata": {},
   "outputs": [],
   "source": [
    "# Add your visualization here\n",
    "tobacco_viz_one = \n",
    "\n",
    "tobacco_viz_one"
   ]
  },
  {
   "cell_type": "markdown",
   "metadata": {},
   "source": [
    "**2nd Visualization:** Ahsan, wants you to create a similar visualization to Neil's above except using a polar bar graph. He wants `r` to be `Non-smokers`, `theta` to be `State` and `color` to be `Year`."
   ]
  },
  {
   "cell_type": "code",
   "execution_count": null,
   "metadata": {},
   "outputs": [],
   "source": [
    "# Add your visualization here\n",
    "tobacco_viz_two = \n",
    "\n",
    "tobacco_viz_two"
   ]
  },
  {
   "cell_type": "markdown",
   "metadata": {},
   "source": [
    "--- \n",
    "\n",
    "## Question 4: Exploring ChapStick and Competitors in 3D"
   ]
  },
  {
   "cell_type": "markdown",
   "metadata": {},
   "source": [
    "**Scenario:** Your manager, Eric, wants to conduct an exploratory analysis for the Pfizer Consumer Healthcare product ChapStick. He wants to visualize the amount of units sold in comparison to ChapStick's competitors Carmex Lip Balm, and Burt's Bees Lip Balm in 3 dimenions using the dataset `chapstick_and_comp.csv`. \n",
    "\n",
    "**1st Visualization:** For your first visualization Eric would like you to create a 3d scatter plot that displays the `Burt's Beeswax` on the x-axis, `ChapStick` on the y-axis, and `Carmex Lip Balm` on the z-axis. He also wants them to be colored based on the winning product of that day `Winner` and for the size attribute to be based on the `Total` column."
   ]
  },
  {
   "cell_type": "code",
   "execution_count": null,
   "metadata": {},
   "outputs": [],
   "source": [
    "# Read in your dataset using the pandas library\n",
    "chapstick_and_comp_df = # Read in dataset here\n",
    "\n",
    "chapstick_and_comp_df"
   ]
  },
  {
   "cell_type": "code",
   "execution_count": null,
   "metadata": {},
   "outputs": [],
   "source": [
    "# Add your visualization here\n",
    "chapstick_viz_one =\n",
    "\n",
    "chapstick_viz_one"
   ]
  },
  {
   "cell_type": "markdown",
   "metadata": {},
   "source": [
    "**2nd Visualization:** For Eric's last visualization, he wants you to create a ternary scatter plot very similar to the 1st visualization above. He want's the `hover_name` to be `State` and `size_max` to be set to `15`."
   ]
  },
  {
   "cell_type": "code",
   "execution_count": null,
   "metadata": {},
   "outputs": [],
   "source": [
    "chapstick_viz_two =\n",
    "\n",
    "chapstick_viz_two"
   ]
  },
  {
   "cell_type": "code",
   "execution_count": null,
   "metadata": {},
   "outputs": [],
   "source": []
  }
 ],
 "metadata": {
  "kernelspec": {
   "display_name": "Python 3",
   "language": "python",
   "name": "python3"
  },
  "language_info": {
   "codemirror_mode": {
    "name": "ipython",
    "version": 3
   },
   "file_extension": ".py",
   "mimetype": "text/x-python",
   "name": "python",
   "nbconvert_exporter": "python",
   "pygments_lexer": "ipython3",
   "version": "3.7.1"
  }
 },
 "nbformat": 4,
 "nbformat_minor": 2
}
